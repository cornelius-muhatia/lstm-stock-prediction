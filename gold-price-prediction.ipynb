{
 "cells": [
  {
   "cell_type": "markdown",
   "metadata": {},
   "source": [
    "# Gold Price Prediction\n",
    "Predicts Gold Prices from [Yahoo Finance](https://query1.finance.yahoo.com/v7/finance/download/GOOG?period1=1092873600&period2=1589414400&interval=1d&events=history)"
   ]
  },
  {
   "cell_type": "markdown",
   "metadata": {},
   "source": [
    "## Imports"
   ]
  },
  {
   "cell_type": "code",
   "execution_count": 1,
   "metadata": {},
   "outputs": [],
   "source": [
    "import tensorflow as tf\n",
    "from tensorflow import keras\n",
    "import matplotlib.pyplot as plt\n",
    "import numpy as np\n",
    "import pandas as pd\n",
    "from sklearn.preprocessing import StandardScaler, MinMaxScaler"
   ]
  },
  {
   "cell_type": "code",
   "execution_count": 2,
   "metadata": {},
   "outputs": [],
   "source": [
    "plt.rcParams['figure.figsize'] = (14, 10)"
   ]
  },
  {
   "cell_type": "code",
   "execution_count": 3,
   "metadata": {},
   "outputs": [
    {
     "name": "stdout",
     "output_type": "stream",
     "text": [
      "2.2.0\n"
     ]
    }
   ],
   "source": [
    "print(tf.__version__)"
   ]
  },
  {
   "cell_type": "markdown",
   "metadata": {},
   "source": [
    "## Constants"
   ]
  },
  {
   "cell_type": "code",
   "execution_count": 4,
   "metadata": {},
   "outputs": [],
   "source": [
    "DATA_URL = \"https://query1.finance.yahoo.com/v7/finance/download/GOLD?period1=476323200&period2=1590019200&interval=1d&events=history\"\n",
    "TRAIN_DATE_BOUNDARY = '2019-01-01'\n",
    "EPOCHS = 30\n",
    "BATCH_SIZE = 31\n",
    "STEPS = 30"
   ]
  },
  {
   "cell_type": "markdown",
   "metadata": {},
   "source": [
    "## Download data\n",
    "Download data from Yahoo finance and partition to test and training"
   ]
  },
  {
   "cell_type": "code",
   "execution_count": 5,
   "metadata": {},
   "outputs": [],
   "source": [
    "# data = pd.read_csv(DATA_URL, index_col=\"Date\", parse_dates=[\"Date\"])\n",
    "data = pd.read_csv(DATA_URL)"
   ]
  },
  {
   "cell_type": "code",
   "execution_count": 6,
   "metadata": {},
   "outputs": [
    {
     "data": {
      "text/html": [
       "<div>\n",
       "<style scoped>\n",
       "    .dataframe tbody tr th:only-of-type {\n",
       "        vertical-align: middle;\n",
       "    }\n",
       "\n",
       "    .dataframe tbody tr th {\n",
       "        vertical-align: top;\n",
       "    }\n",
       "\n",
       "    .dataframe thead th {\n",
       "        text-align: right;\n",
       "    }\n",
       "</style>\n",
       "<table border=\"1\" class=\"dataframe\">\n",
       "  <thead>\n",
       "    <tr style=\"text-align: right;\">\n",
       "      <th></th>\n",
       "      <th>Date</th>\n",
       "      <th>Open</th>\n",
       "      <th>High</th>\n",
       "      <th>Low</th>\n",
       "      <th>Close</th>\n",
       "      <th>Adj Close</th>\n",
       "      <th>Volume</th>\n",
       "    </tr>\n",
       "  </thead>\n",
       "  <tbody>\n",
       "    <tr>\n",
       "      <th>0</th>\n",
       "      <td>1985-02-04</td>\n",
       "      <td>0.55230</td>\n",
       "      <td>0.58137</td>\n",
       "      <td>0.55230</td>\n",
       "      <td>0.55230</td>\n",
       "      <td>0.189186</td>\n",
       "      <td>50400</td>\n",
       "    </tr>\n",
       "    <tr>\n",
       "      <th>1</th>\n",
       "      <td>1985-02-05</td>\n",
       "      <td>0.55230</td>\n",
       "      <td>0.61044</td>\n",
       "      <td>0.55230</td>\n",
       "      <td>0.55230</td>\n",
       "      <td>0.189186</td>\n",
       "      <td>18400</td>\n",
       "    </tr>\n",
       "    <tr>\n",
       "      <th>2</th>\n",
       "      <td>1985-02-06</td>\n",
       "      <td>0.58137</td>\n",
       "      <td>0.65406</td>\n",
       "      <td>0.58137</td>\n",
       "      <td>0.58137</td>\n",
       "      <td>0.199143</td>\n",
       "      <td>65600</td>\n",
       "    </tr>\n",
       "    <tr>\n",
       "      <th>3</th>\n",
       "      <td>1985-02-07</td>\n",
       "      <td>0.58137</td>\n",
       "      <td>0.61044</td>\n",
       "      <td>0.58137</td>\n",
       "      <td>0.58137</td>\n",
       "      <td>0.199143</td>\n",
       "      <td>40000</td>\n",
       "    </tr>\n",
       "    <tr>\n",
       "      <th>4</th>\n",
       "      <td>1985-02-08</td>\n",
       "      <td>0.58137</td>\n",
       "      <td>0.61044</td>\n",
       "      <td>0.58137</td>\n",
       "      <td>0.58137</td>\n",
       "      <td>0.199143</td>\n",
       "      <td>25600</td>\n",
       "    </tr>\n",
       "  </tbody>\n",
       "</table>\n",
       "</div>"
      ],
      "text/plain": [
       "         Date     Open     High      Low    Close  Adj Close  Volume\n",
       "0  1985-02-04  0.55230  0.58137  0.55230  0.55230   0.189186   50400\n",
       "1  1985-02-05  0.55230  0.61044  0.55230  0.55230   0.189186   18400\n",
       "2  1985-02-06  0.58137  0.65406  0.58137  0.58137   0.199143   65600\n",
       "3  1985-02-07  0.58137  0.61044  0.58137  0.58137   0.199143   40000\n",
       "4  1985-02-08  0.58137  0.61044  0.58137  0.58137   0.199143   25600"
      ]
     },
     "execution_count": 6,
     "metadata": {},
     "output_type": "execute_result"
    }
   ],
   "source": [
    "data.head()"
   ]
  },
  {
   "cell_type": "code",
   "execution_count": 7,
   "metadata": {},
   "outputs": [],
   "source": [
    "data_training = data[data['Date'] < TRAIN_DATE_BOUNDARY]\n",
    "training_data = data_training.drop(['Date', 'Adj Close', 'Volume'], axis=1)\n",
    "data_test = data[data['Date'] >= TRAIN_DATE_BOUNDARY]"
   ]
  },
  {
   "cell_type": "markdown",
   "metadata": {},
   "source": [
    "Scale data to improve training efficiency"
   ]
  },
  {
   "cell_type": "code",
   "execution_count": 8,
   "metadata": {},
   "outputs": [],
   "source": [
    "scaler = MinMaxScaler()\n",
    "training_data = scaler.fit_transform(training_data)"
   ]
  },
  {
   "cell_type": "markdown",
   "metadata": {},
   "source": [
    "A function for converting data into time steps dataset"
   ]
  },
  {
   "cell_type": "code",
   "execution_count": 9,
   "metadata": {},
   "outputs": [],
   "source": [
    "def data_timesteps(dataset, steps = 1):\n",
    "    x_data = []\n",
    "    y_data = []\n",
    "    for i in range(steps, dataset.shape[0]):\n",
    "        x_data.append(training_data[(i - steps): i])\n",
    "        y_data.append(training_data[i, 0])\n",
    "        \n",
    "    return np.array(x_data), np.array(y_data)\n",
    "    "
   ]
  },
  {
   "cell_type": "code",
   "execution_count": 10,
   "metadata": {},
   "outputs": [
    {
     "data": {
      "text/plain": [
       "((8517, 30, 4), (8517,))"
      ]
     },
     "execution_count": 10,
     "metadata": {},
     "output_type": "execute_result"
    }
   ],
   "source": [
    "X_train, y_train = data_timesteps(training_data, STEPS)\n",
    "X_train.shape, y_train.shape"
   ]
  },
  {
   "cell_type": "markdown",
   "metadata": {},
   "source": [
    "## Model Configuration"
   ]
  },
  {
   "cell_type": "code",
   "execution_count": 11,
   "metadata": {},
   "outputs": [
    {
     "name": "stdout",
     "output_type": "stream",
     "text": [
      "Model: \"sequential\"\n",
      "_________________________________________________________________\n",
      "Layer (type)                 Output Shape              Param #   \n",
      "=================================================================\n",
      "lstm (LSTM)                  (None, 30, 50)            11000     \n",
      "_________________________________________________________________\n",
      "dropout (Dropout)            (None, 30, 50)            0         \n",
      "_________________________________________________________________\n",
      "lstm_1 (LSTM)                (None, 30, 60)            26640     \n",
      "_________________________________________________________________\n",
      "dropout_1 (Dropout)          (None, 30, 60)            0         \n",
      "_________________________________________________________________\n",
      "lstm_2 (LSTM)                (None, 30, 80)            45120     \n",
      "_________________________________________________________________\n",
      "dropout_2 (Dropout)          (None, 30, 80)            0         \n",
      "_________________________________________________________________\n",
      "lstm_3 (LSTM)                (None, 30, 120)           96480     \n",
      "_________________________________________________________________\n",
      "dropout_3 (Dropout)          (None, 30, 120)           0         \n",
      "_________________________________________________________________\n",
      "dense (Dense)                (None, 30, 1)             121       \n",
      "=================================================================\n",
      "Total params: 179,361\n",
      "Trainable params: 179,361\n",
      "Non-trainable params: 0\n",
      "_________________________________________________________________\n"
     ]
    }
   ],
   "source": [
    "model = keras.models.Sequential()\n",
    "model.add(keras.layers.LSTM(units=50, activation='relu', return_sequences=True, input_shape=(X_train.shape[1], X_train.shape[2])))\n",
    "model.add(keras.layers.Dropout(0.2))\n",
    "model.add(keras.layers.LSTM(units=60, activation='relu', return_sequences=True))\n",
    "model.add(keras.layers.Dropout(0.3))\n",
    "model.add(keras.layers.LSTM(units=80, activation='relu', return_sequences=True))\n",
    "model.add(keras.layers.Dropout(0.4))\n",
    "model.add(keras.layers.LSTM(units=120, activation='relu', return_sequences=True))\n",
    "model.add(keras.layers.Dropout(0.5))\n",
    "model.add(keras.layers.Dense(1))\n",
    "\n",
    "model.summary()"
   ]
  },
  {
   "cell_type": "markdown",
   "metadata": {},
   "source": [
    "Compile and Train model"
   ]
  },
  {
   "cell_type": "code",
   "execution_count": 12,
   "metadata": {},
   "outputs": [],
   "source": [
    "model.compile(optimizer='adam', loss='mean_squared_error')"
   ]
  },
  {
   "cell_type": "code",
   "execution_count": 13,
   "metadata": {},
   "outputs": [
    {
     "data": {
      "text/plain": [
       "(8517,)"
      ]
     },
     "execution_count": 13,
     "metadata": {},
     "output_type": "execute_result"
    }
   ],
   "source": [
    "y_train.shape"
   ]
  },
  {
   "cell_type": "code",
   "execution_count": null,
   "metadata": {},
   "outputs": [
    {
     "name": "stdout",
     "output_type": "stream",
     "text": [
      "Epoch 1/30\n",
      "248/248 [==============================] - 19s 76ms/step - loss: 0.0174 - val_loss: 0.0083\n",
      "Epoch 2/30\n",
      "248/248 [==============================] - 15s 61ms/step - loss: 0.0163 - val_loss: 0.0102\n",
      "Epoch 3/30\n",
      "248/248 [==============================] - 15s 59ms/step - loss: 0.0211 - val_loss: 0.0106\n",
      "Epoch 4/30\n",
      "248/248 [==============================] - 16s 66ms/step - loss: 0.0218 - val_loss: 0.0099\n",
      "Epoch 5/30\n",
      "248/248 [==============================] - 16s 64ms/step - loss: 0.0216 - val_loss: 0.0085\n",
      "Epoch 6/30\n",
      "248/248 [==============================] - 17s 67ms/step - loss: 0.0196 - val_loss: 0.0094\n",
      "Epoch 7/30\n",
      "248/248 [==============================] - 16s 66ms/step - loss: 0.0228 - val_loss: 0.0104\n",
      "Epoch 8/30\n",
      "213/248 [========================>.....] - ETA: 2s - loss: 0.0186"
     ]
    }
   ],
   "source": [
    "model_results = model.fit(X_train, y_train, epochs=EPOCHS, batch_size=BATCH_SIZE, validation_split=0.1, shuffle=False)"
   ]
  },
  {
   "cell_type": "markdown",
   "metadata": {},
   "source": [
    "Plot for training and validation"
   ]
  },
  {
   "cell_type": "code",
   "execution_count": null,
   "metadata": {},
   "outputs": [],
   "source": [
    "plt.plot(model_results.history['loss'], label='Train', color='green')\n",
    "plt.plot(model_results.history['val_loss'], label='Validation', color='red')\n",
    "plt.show()"
   ]
  },
  {
   "cell_type": "markdown",
   "metadata": {},
   "source": [
    "## Test Model"
   ]
  },
  {
   "cell_type": "code",
   "execution_count": null,
   "metadata": {},
   "outputs": [],
   "source": [
    "past_60_days = data_training.tail(60)\n",
    "df = past_60_days.append(data_test, ignore_index=True)\n",
    "df = df.drop(['Date', 'Adj Close', 'Volume'], axis=1)\n",
    "inputs = scaler.transform(df)\n",
    "    \n",
    "X_test, y_test = data_timesteps(inputs, 60)\n",
    "X_test.shape, y_test.shape"
   ]
  },
  {
   "cell_type": "markdown",
   "metadata": {},
   "source": [
    "Predict test data"
   ]
  },
  {
   "cell_type": "code",
   "execution_count": null,
   "metadata": {},
   "outputs": [],
   "source": [
    "y_predict = model.predict(X_test)\n",
    "y_predict = np.argmax(y_predict, axis=1)\n",
    "y_predict.shape"
   ]
  },
  {
   "cell_type": "markdown",
   "metadata": {},
   "source": [
    "Scale data back to original form"
   ]
  },
  {
   "cell_type": "code",
   "execution_count": null,
   "metadata": {},
   "outputs": [],
   "source": [
    "scale = 1/scaler.scale_[0]\n",
    "y_predict = y_predict * scale\n",
    "y_test = y_test * scale\n",
    "# y_predict = scaler.inverse_transform(y_predict)\n",
    "# y_test = scaler.inverse_transform(y_test)"
   ]
  },
  {
   "cell_type": "markdown",
   "metadata": {},
   "source": [
    "## Visualize Test Prediction"
   ]
  },
  {
   "cell_type": "code",
   "execution_count": null,
   "metadata": {},
   "outputs": [],
   "source": [
    "plt.plot(y_test, color=\"green\", label=\"Real Price\")\n",
    "plt.plot(y_predict, color=\"blue\", label=\"Predicted Price\")\n",
    "plt.title(\"Gold Price Prediction\")\n",
    "plt.xlabel(\"Time\")\n",
    "plt.ylabel(\"Price\")\n",
    "plt.legend()\n",
    "plt.show()"
   ]
  },
  {
   "cell_type": "markdown",
   "metadata": {},
   "source": [
    "## Credits\n",
    "1. [KGP Talkie](https://youtu.be/arydWPLDnEc) LSTM Tutorial"
   ]
  },
  {
   "cell_type": "code",
   "execution_count": null,
   "metadata": {},
   "outputs": [],
   "source": []
  }
 ],
 "metadata": {
  "kernelspec": {
   "display_name": "ml-kernel",
   "language": "python",
   "name": "ml-kernel"
  },
  "language_info": {
   "codemirror_mode": {
    "name": "ipython",
    "version": 3
   },
   "file_extension": ".py",
   "mimetype": "text/x-python",
   "name": "python",
   "nbconvert_exporter": "python",
   "pygments_lexer": "ipython3",
   "version": "3.8.2"
  }
 },
 "nbformat": 4,
 "nbformat_minor": 4
}
